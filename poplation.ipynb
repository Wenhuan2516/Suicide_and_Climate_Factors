{
 "cells": [
  {
   "cell_type": "code",
   "execution_count": 1,
   "id": "7e4c2ef6-430c-4349-ad59-d05fa0cb6a5e",
   "metadata": {},
   "outputs": [],
   "source": [
    "import dask.dataframe as ddf\n",
    "import pandas as pd\n",
    "import datetime\n",
    "import functools\n",
    "import seaborn as sns\n",
    "import matplotlib.pyplot as plt"
   ]
  },
  {
   "cell_type": "code",
   "execution_count": 5,
   "id": "de56d4a9-eb29-42ff-8b17-34250eea8087",
   "metadata": {},
   "outputs": [
    {
     "data": {
      "text/html": [
       "<div>\n",
       "<style scoped>\n",
       "    .dataframe tbody tr th:only-of-type {\n",
       "        vertical-align: middle;\n",
       "    }\n",
       "\n",
       "    .dataframe tbody tr th {\n",
       "        vertical-align: top;\n",
       "    }\n",
       "\n",
       "    .dataframe thead th {\n",
       "        text-align: right;\n",
       "    }\n",
       "</style>\n",
       "<table border=\"1\" class=\"dataframe\">\n",
       "  <thead>\n",
       "    <tr style=\"text-align: right;\">\n",
       "      <th></th>\n",
       "      <th>data</th>\n",
       "    </tr>\n",
       "  </thead>\n",
       "  <tbody>\n",
       "    <tr>\n",
       "      <th>0</th>\n",
       "      <td>1969AL01001991910000000159</td>\n",
       "    </tr>\n",
       "    <tr>\n",
       "      <th>1</th>\n",
       "      <td>1969AL01001991910100000657</td>\n",
       "    </tr>\n",
       "    <tr>\n",
       "      <th>2</th>\n",
       "      <td>1969AL01001991910200001137</td>\n",
       "    </tr>\n",
       "    <tr>\n",
       "      <th>3</th>\n",
       "      <td>1969AL01001991910300000956</td>\n",
       "    </tr>\n",
       "    <tr>\n",
       "      <th>4</th>\n",
       "      <td>1969AL01001991910400000721</td>\n",
       "    </tr>\n",
       "  </tbody>\n",
       "</table>\n",
       "</div>"
      ],
      "text/plain": [
       "                         data\n",
       "0  1969AL01001991910000000159\n",
       "1  1969AL01001991910100000657\n",
       "2  1969AL01001991910200001137\n",
       "3  1969AL01001991910300000956\n",
       "4  1969AL01001991910400000721"
      ]
     },
     "execution_count": 5,
     "metadata": {},
     "output_type": "execute_result"
    }
   ],
   "source": [
    "sd = ddf.read_csv('pop_1969-2020.txt',sep = '\\t', dtype = {'data': str})\n",
    "sd = sd.compute()\n",
    "sd = sd.loc[:, ~sd.columns.str.contains('^Unnamed')]\n",
    "sd.head()"
   ]
  },
  {
   "cell_type": "code",
   "execution_count": 6,
   "id": "24b2cdd2-0291-4588-9c33-7d21133a4a36",
   "metadata": {},
   "outputs": [],
   "source": [
    "def findYear(data):\n",
    "    return data[:4]"
   ]
  },
  {
   "cell_type": "code",
   "execution_count": 7,
   "id": "87563732-fe4b-4aec-bf2a-c364a0a1f514",
   "metadata": {},
   "outputs": [],
   "source": [
    "sd['year'] = sd['data'].apply(findYear)"
   ]
  },
  {
   "cell_type": "code",
   "execution_count": 8,
   "id": "a0b6b447-2e0f-4b78-8aa4-c846d946cbfd",
   "metadata": {},
   "outputs": [],
   "source": [
    "def findState(data):\n",
    "    return data[4:6]"
   ]
  },
  {
   "cell_type": "code",
   "execution_count": 9,
   "id": "e3f9a909-27e8-471d-8e5f-1d714de9698a",
   "metadata": {},
   "outputs": [],
   "source": [
    "sd['state'] = sd['data'].apply(findState)"
   ]
  },
  {
   "cell_type": "code",
   "execution_count": 10,
   "id": "6f4f0f51-bb0d-4a03-b059-7e6a6768b84e",
   "metadata": {},
   "outputs": [],
   "source": [
    "def findCountyCode(data):\n",
    "    return data[6:11]"
   ]
  },
  {
   "cell_type": "code",
   "execution_count": 11,
   "id": "8858fb1b-db2a-4840-94a6-fa5ec6ee098b",
   "metadata": {},
   "outputs": [],
   "source": [
    "sd['fips'] = sd['data'].apply(findCountyCode)"
   ]
  },
  {
   "cell_type": "code",
   "execution_count": 12,
   "id": "5dfd4fe2-8666-47a5-a7f8-c546aee08124",
   "metadata": {},
   "outputs": [
    {
     "data": {
      "text/html": [
       "<div>\n",
       "<style scoped>\n",
       "    .dataframe tbody tr th:only-of-type {\n",
       "        vertical-align: middle;\n",
       "    }\n",
       "\n",
       "    .dataframe tbody tr th {\n",
       "        vertical-align: top;\n",
       "    }\n",
       "\n",
       "    .dataframe thead th {\n",
       "        text-align: right;\n",
       "    }\n",
       "</style>\n",
       "<table border=\"1\" class=\"dataframe\">\n",
       "  <thead>\n",
       "    <tr style=\"text-align: right;\">\n",
       "      <th></th>\n",
       "      <th>data</th>\n",
       "      <th>year</th>\n",
       "      <th>state</th>\n",
       "      <th>fips</th>\n",
       "    </tr>\n",
       "  </thead>\n",
       "  <tbody>\n",
       "    <tr>\n",
       "      <th>0</th>\n",
       "      <td>1969AL01001991910000000159</td>\n",
       "      <td>1969</td>\n",
       "      <td>AL</td>\n",
       "      <td>01001</td>\n",
       "    </tr>\n",
       "    <tr>\n",
       "      <th>1</th>\n",
       "      <td>1969AL01001991910100000657</td>\n",
       "      <td>1969</td>\n",
       "      <td>AL</td>\n",
       "      <td>01001</td>\n",
       "    </tr>\n",
       "    <tr>\n",
       "      <th>2</th>\n",
       "      <td>1969AL01001991910200001137</td>\n",
       "      <td>1969</td>\n",
       "      <td>AL</td>\n",
       "      <td>01001</td>\n",
       "    </tr>\n",
       "    <tr>\n",
       "      <th>3</th>\n",
       "      <td>1969AL01001991910300000956</td>\n",
       "      <td>1969</td>\n",
       "      <td>AL</td>\n",
       "      <td>01001</td>\n",
       "    </tr>\n",
       "    <tr>\n",
       "      <th>4</th>\n",
       "      <td>1969AL01001991910400000721</td>\n",
       "      <td>1969</td>\n",
       "      <td>AL</td>\n",
       "      <td>01001</td>\n",
       "    </tr>\n",
       "  </tbody>\n",
       "</table>\n",
       "</div>"
      ],
      "text/plain": [
       "                         data  year state   fips\n",
       "0  1969AL01001991910000000159  1969    AL  01001\n",
       "1  1969AL01001991910100000657  1969    AL  01001\n",
       "2  1969AL01001991910200001137  1969    AL  01001\n",
       "3  1969AL01001991910300000956  1969    AL  01001\n",
       "4  1969AL01001991910400000721  1969    AL  01001"
      ]
     },
     "execution_count": 12,
     "metadata": {},
     "output_type": "execute_result"
    }
   ],
   "source": [
    "sd.head()"
   ]
  },
  {
   "cell_type": "code",
   "execution_count": 17,
   "id": "95fbb383-3194-4a43-af80-fe7e8f47f2f3",
   "metadata": {},
   "outputs": [
    {
     "name": "stdout",
     "output_type": "stream",
     "text": [
      "1\n",
      "01001\n"
     ]
    }
   ],
   "source": [
    "str1 = '1969AL01001991910000000159'\n",
    "print(str1[13])\n",
    "print(str1[6:11])"
   ]
  },
  {
   "cell_type": "code",
   "execution_count": 18,
   "id": "a037f362-9e5a-47b0-96b6-22de30940734",
   "metadata": {},
   "outputs": [],
   "source": [
    "def findRace(data):\n",
    "    code = ''\n",
    "    if len(data) >= 14:\n",
    "        code = data[13]\n",
    "    race = ''\n",
    "    if code == '1':\n",
    "        race = 'white'\n",
    "    elif code == '2':\n",
    "        race = 'black'\n",
    "    else:\n",
    "        race = 'other'\n",
    "    return race"
   ]
  },
  {
   "cell_type": "code",
   "execution_count": 19,
   "id": "2d198bac-d0a9-4369-901b-fd527f35a70d",
   "metadata": {},
   "outputs": [],
   "source": [
    "sd['race'] = sd['data'].apply(findRace)"
   ]
  },
  {
   "cell_type": "code",
   "execution_count": 20,
   "id": "5aa7ae4a-336d-4415-afdf-8a43d92ab3b7",
   "metadata": {},
   "outputs": [
    {
     "data": {
      "text/html": [
       "<div>\n",
       "<style scoped>\n",
       "    .dataframe tbody tr th:only-of-type {\n",
       "        vertical-align: middle;\n",
       "    }\n",
       "\n",
       "    .dataframe tbody tr th {\n",
       "        vertical-align: top;\n",
       "    }\n",
       "\n",
       "    .dataframe thead th {\n",
       "        text-align: right;\n",
       "    }\n",
       "</style>\n",
       "<table border=\"1\" class=\"dataframe\">\n",
       "  <thead>\n",
       "    <tr style=\"text-align: right;\">\n",
       "      <th></th>\n",
       "      <th>data</th>\n",
       "      <th>year</th>\n",
       "      <th>state</th>\n",
       "      <th>fips</th>\n",
       "      <th>race</th>\n",
       "    </tr>\n",
       "  </thead>\n",
       "  <tbody>\n",
       "    <tr>\n",
       "      <th>0</th>\n",
       "      <td>1969AL01001991910000000159</td>\n",
       "      <td>1969</td>\n",
       "      <td>AL</td>\n",
       "      <td>01001</td>\n",
       "      <td>white</td>\n",
       "    </tr>\n",
       "    <tr>\n",
       "      <th>1</th>\n",
       "      <td>1969AL01001991910100000657</td>\n",
       "      <td>1969</td>\n",
       "      <td>AL</td>\n",
       "      <td>01001</td>\n",
       "      <td>white</td>\n",
       "    </tr>\n",
       "    <tr>\n",
       "      <th>2</th>\n",
       "      <td>1969AL01001991910200001137</td>\n",
       "      <td>1969</td>\n",
       "      <td>AL</td>\n",
       "      <td>01001</td>\n",
       "      <td>white</td>\n",
       "    </tr>\n",
       "    <tr>\n",
       "      <th>3</th>\n",
       "      <td>1969AL01001991910300000956</td>\n",
       "      <td>1969</td>\n",
       "      <td>AL</td>\n",
       "      <td>01001</td>\n",
       "      <td>white</td>\n",
       "    </tr>\n",
       "    <tr>\n",
       "      <th>4</th>\n",
       "      <td>1969AL01001991910400000721</td>\n",
       "      <td>1969</td>\n",
       "      <td>AL</td>\n",
       "      <td>01001</td>\n",
       "      <td>white</td>\n",
       "    </tr>\n",
       "  </tbody>\n",
       "</table>\n",
       "</div>"
      ],
      "text/plain": [
       "                         data  year state   fips   race\n",
       "0  1969AL01001991910000000159  1969    AL  01001  white\n",
       "1  1969AL01001991910100000657  1969    AL  01001  white\n",
       "2  1969AL01001991910200001137  1969    AL  01001  white\n",
       "3  1969AL01001991910300000956  1969    AL  01001  white\n",
       "4  1969AL01001991910400000721  1969    AL  01001  white"
      ]
     },
     "execution_count": 20,
     "metadata": {},
     "output_type": "execute_result"
    }
   ],
   "source": [
    "sd.head()"
   ]
  },
  {
   "cell_type": "code",
   "execution_count": 21,
   "id": "cfa925b8-5508-4b1e-92e0-62d74d255aa6",
   "metadata": {},
   "outputs": [
    {
     "name": "stdout",
     "output_type": "stream",
     "text": [
      "white\n",
      "black\n",
      "other\n"
     ]
    }
   ],
   "source": [
    "race = list(sd['race'].unique())\n",
    "for item in race:\n",
    "    print(item)"
   ]
  },
  {
   "cell_type": "code",
   "execution_count": 28,
   "id": "2629d5cd-a491-40c3-9eb5-8f1384407435",
   "metadata": {},
   "outputs": [],
   "source": [
    "def findOrigin(data):\n",
    "    code = ''\n",
    "    if len(data) >= 15:\n",
    "        code = data[14]\n",
    "    if code == '0':\n",
    "        return 'Non-Hispanic'\n",
    "    elif code == '1':\n",
    "        return 'Hispanic'\n",
    "    else:\n",
    "        return 'not applicable'"
   ]
  },
  {
   "cell_type": "code",
   "execution_count": 29,
   "id": "b65fbf0e-d732-4580-acdd-613648e3bcd4",
   "metadata": {},
   "outputs": [],
   "source": [
    "sd['origin'] = sd['data'].apply(findOrigin)"
   ]
  },
  {
   "cell_type": "code",
   "execution_count": 30,
   "id": "97e7d2ce-0702-475f-8613-6b40e9be0574",
   "metadata": {},
   "outputs": [
    {
     "data": {
      "text/plain": [
       "array(['not applicable'], dtype=object)"
      ]
     },
     "execution_count": 30,
     "metadata": {},
     "output_type": "execute_result"
    }
   ],
   "source": [
    "sd['origin'].unique()"
   ]
  },
  {
   "cell_type": "code",
   "execution_count": 31,
   "id": "7b87e94d-036c-4d95-8d28-e0400d8e9631",
   "metadata": {},
   "outputs": [],
   "source": [
    "def findSex(data):\n",
    "    code = ''\n",
    "    if len(data) >= 16:\n",
    "        code = data[15]\n",
    "    if code == '1':\n",
    "        return 'Male'\n",
    "    else:\n",
    "        return 'Female'"
   ]
  },
  {
   "cell_type": "code",
   "execution_count": 32,
   "id": "d8af20b4-a0d0-4ea7-adfe-29c706bfee90",
   "metadata": {},
   "outputs": [],
   "source": [
    "sd['sex'] = sd['data'].apply(findSex)"
   ]
  },
  {
   "cell_type": "code",
   "execution_count": 33,
   "id": "68946a8c-57e4-4882-ae52-654b4e6a0ad4",
   "metadata": {},
   "outputs": [
    {
     "data": {
      "text/plain": [
       "array(['Male', 'Female'], dtype=object)"
      ]
     },
     "execution_count": 33,
     "metadata": {},
     "output_type": "execute_result"
    }
   ],
   "source": [
    "sd['sex'].unique()"
   ]
  },
  {
   "cell_type": "code",
   "execution_count": 34,
   "id": "e3d7006c-0bf0-45c5-9bc6-9faf8dbe1e55",
   "metadata": {},
   "outputs": [],
   "source": [
    "def findAge(data):\n",
    "    code = ''\n",
    "    if len(data) > 18:\n",
    "        code = data[16:18]\n",
    "    if code == '00':\n",
    "        return '0 years'\n",
    "    elif code == '01':\n",
    "        return '1-4 years'\n",
    "    elif code == '02':\n",
    "        return '5-9 years'\n",
    "    elif code == '03':\n",
    "        return '10-14 years'\n",
    "    elif code == '04':\n",
    "        return '15-19 years'\n",
    "    elif code == '05':\n",
    "        return '20-24 years'\n",
    "    elif code == '06':\n",
    "        return '25-29 years'\n",
    "    elif code == '07':\n",
    "        return '30-34 years'\n",
    "    elif code == '08':\n",
    "        return '35-39 years'\n",
    "    elif code == '09':\n",
    "        return '40-44 years'\n",
    "    elif code == '10':\n",
    "        return '45-49 years'\n",
    "    elif code == '11':\n",
    "        return '50-54 years'\n",
    "    elif code == '12':\n",
    "        return '55-59 years'\n",
    "    elif code == '13':\n",
    "        return '60-64 years'\n",
    "    elif code == '14':\n",
    "        return '65-69 years'\n",
    "    elif code == '15':\n",
    "        return '70-74 years'\n",
    "    elif code == '16':\n",
    "        return '75-79 years'\n",
    "    elif code == '17':\n",
    "        return '80-84 years'\n",
    "    else:\n",
    "        return 'over 85 years'"
   ]
  },
  {
   "cell_type": "code",
   "execution_count": 35,
   "id": "08618ef7-3357-4330-abfe-4bec0d88e98f",
   "metadata": {},
   "outputs": [],
   "source": [
    "sd['age'] = sd['data'].apply(findAge)"
   ]
  },
  {
   "cell_type": "code",
   "execution_count": 36,
   "id": "f30a750b-99cf-46d2-819e-af2defd0dd33",
   "metadata": {},
   "outputs": [
    {
     "data": {
      "text/plain": [
       "array(['0 years', '1-4 years', '5-9 years', '10-14 years', '15-19 years',\n",
       "       '20-24 years', '25-29 years', '30-34 years', '35-39 years',\n",
       "       '40-44 years', '45-49 years', '50-54 years', '55-59 years',\n",
       "       '60-64 years', '65-69 years', '70-74 years', '75-79 years',\n",
       "       '80-84 years', 'over 85 years'], dtype=object)"
      ]
     },
     "execution_count": 36,
     "metadata": {},
     "output_type": "execute_result"
    }
   ],
   "source": [
    "sd['age'].unique()"
   ]
  },
  {
   "cell_type": "code",
   "execution_count": 42,
   "id": "b2bc6420-ca99-44b4-9b6d-c2872671241f",
   "metadata": {},
   "outputs": [],
   "source": [
    "def findPop(data):\n",
    "    code = ''\n",
    "    if len(data) == 25 or len(data) == 26:\n",
    "        code = data[18:]\n",
    "    return code.strip('0')"
   ]
  },
  {
   "cell_type": "code",
   "execution_count": 43,
   "id": "8681b728-5a89-479c-9a68-43ca044be118",
   "metadata": {},
   "outputs": [],
   "source": [
    "sd['pop'] = sd['data'].apply(findPop)"
   ]
  },
  {
   "cell_type": "code",
   "execution_count": 44,
   "id": "bba3381b-cd84-43ca-b653-f55e7502a12a",
   "metadata": {},
   "outputs": [
    {
     "data": {
      "text/html": [
       "<div>\n",
       "<style scoped>\n",
       "    .dataframe tbody tr th:only-of-type {\n",
       "        vertical-align: middle;\n",
       "    }\n",
       "\n",
       "    .dataframe tbody tr th {\n",
       "        vertical-align: top;\n",
       "    }\n",
       "\n",
       "    .dataframe thead th {\n",
       "        text-align: right;\n",
       "    }\n",
       "</style>\n",
       "<table border=\"1\" class=\"dataframe\">\n",
       "  <thead>\n",
       "    <tr style=\"text-align: right;\">\n",
       "      <th></th>\n",
       "      <th>data</th>\n",
       "      <th>year</th>\n",
       "      <th>state</th>\n",
       "      <th>fips</th>\n",
       "      <th>race</th>\n",
       "      <th>origin</th>\n",
       "      <th>sex</th>\n",
       "      <th>age</th>\n",
       "      <th>pop</th>\n",
       "    </tr>\n",
       "  </thead>\n",
       "  <tbody>\n",
       "    <tr>\n",
       "      <th>0</th>\n",
       "      <td>1969AL01001991910000000159</td>\n",
       "      <td>1969</td>\n",
       "      <td>AL</td>\n",
       "      <td>01001</td>\n",
       "      <td>white</td>\n",
       "      <td>not applicable</td>\n",
       "      <td>Male</td>\n",
       "      <td>0 years</td>\n",
       "      <td>159</td>\n",
       "    </tr>\n",
       "    <tr>\n",
       "      <th>1</th>\n",
       "      <td>1969AL01001991910100000657</td>\n",
       "      <td>1969</td>\n",
       "      <td>AL</td>\n",
       "      <td>01001</td>\n",
       "      <td>white</td>\n",
       "      <td>not applicable</td>\n",
       "      <td>Male</td>\n",
       "      <td>1-4 years</td>\n",
       "      <td>657</td>\n",
       "    </tr>\n",
       "    <tr>\n",
       "      <th>2</th>\n",
       "      <td>1969AL01001991910200001137</td>\n",
       "      <td>1969</td>\n",
       "      <td>AL</td>\n",
       "      <td>01001</td>\n",
       "      <td>white</td>\n",
       "      <td>not applicable</td>\n",
       "      <td>Male</td>\n",
       "      <td>5-9 years</td>\n",
       "      <td>1137</td>\n",
       "    </tr>\n",
       "    <tr>\n",
       "      <th>3</th>\n",
       "      <td>1969AL01001991910300000956</td>\n",
       "      <td>1969</td>\n",
       "      <td>AL</td>\n",
       "      <td>01001</td>\n",
       "      <td>white</td>\n",
       "      <td>not applicable</td>\n",
       "      <td>Male</td>\n",
       "      <td>10-14 years</td>\n",
       "      <td>956</td>\n",
       "    </tr>\n",
       "    <tr>\n",
       "      <th>4</th>\n",
       "      <td>1969AL01001991910400000721</td>\n",
       "      <td>1969</td>\n",
       "      <td>AL</td>\n",
       "      <td>01001</td>\n",
       "      <td>white</td>\n",
       "      <td>not applicable</td>\n",
       "      <td>Male</td>\n",
       "      <td>15-19 years</td>\n",
       "      <td>721</td>\n",
       "    </tr>\n",
       "  </tbody>\n",
       "</table>\n",
       "</div>"
      ],
      "text/plain": [
       "                         data  year state   fips   race          origin   sex  \\\n",
       "0  1969AL01001991910000000159  1969    AL  01001  white  not applicable  Male   \n",
       "1  1969AL01001991910100000657  1969    AL  01001  white  not applicable  Male   \n",
       "2  1969AL01001991910200001137  1969    AL  01001  white  not applicable  Male   \n",
       "3  1969AL01001991910300000956  1969    AL  01001  white  not applicable  Male   \n",
       "4  1969AL01001991910400000721  1969    AL  01001  white  not applicable  Male   \n",
       "\n",
       "           age   pop  \n",
       "0      0 years   159  \n",
       "1    1-4 years   657  \n",
       "2    5-9 years  1137  \n",
       "3  10-14 years   956  \n",
       "4  15-19 years   721  "
      ]
     },
     "execution_count": 44,
     "metadata": {},
     "output_type": "execute_result"
    }
   ],
   "source": [
    "sd.head()"
   ]
  },
  {
   "cell_type": "code",
   "execution_count": 45,
   "id": "b54400d8-c282-4191-929c-7167ef0e653b",
   "metadata": {},
   "outputs": [
    {
     "data": {
      "text/plain": [
       "'159'"
      ]
     },
     "execution_count": 45,
     "metadata": {},
     "output_type": "execute_result"
    }
   ],
   "source": [
    "str1 = '0000159'\n",
    "rs = str1.strip('0')\n",
    "rs"
   ]
  },
  {
   "cell_type": "code",
   "execution_count": 46,
   "id": "96140dc0-7bcc-4548-b250-a0f9737515af",
   "metadata": {},
   "outputs": [
    {
     "data": {
      "text/html": [
       "<div>\n",
       "<style scoped>\n",
       "    .dataframe tbody tr th:only-of-type {\n",
       "        vertical-align: middle;\n",
       "    }\n",
       "\n",
       "    .dataframe tbody tr th {\n",
       "        vertical-align: top;\n",
       "    }\n",
       "\n",
       "    .dataframe thead th {\n",
       "        text-align: right;\n",
       "    }\n",
       "</style>\n",
       "<table border=\"1\" class=\"dataframe\">\n",
       "  <thead>\n",
       "    <tr style=\"text-align: right;\">\n",
       "      <th></th>\n",
       "      <th>data</th>\n",
       "      <th>year</th>\n",
       "      <th>state</th>\n",
       "      <th>fips</th>\n",
       "      <th>race</th>\n",
       "      <th>origin</th>\n",
       "      <th>sex</th>\n",
       "      <th>age</th>\n",
       "      <th>pop</th>\n",
       "    </tr>\n",
       "  </thead>\n",
       "  <tbody>\n",
       "    <tr>\n",
       "      <th>1821737</th>\n",
       "      <td>2020WY56045993921400000021</td>\n",
       "      <td>2020</td>\n",
       "      <td>WY</td>\n",
       "      <td>56045</td>\n",
       "      <td>other</td>\n",
       "      <td>not applicable</td>\n",
       "      <td>Female</td>\n",
       "      <td>65-69 years</td>\n",
       "      <td>21</td>\n",
       "    </tr>\n",
       "    <tr>\n",
       "      <th>1821738</th>\n",
       "      <td>2020WY56045993921500000002</td>\n",
       "      <td>2020</td>\n",
       "      <td>WY</td>\n",
       "      <td>56045</td>\n",
       "      <td>other</td>\n",
       "      <td>not applicable</td>\n",
       "      <td>Female</td>\n",
       "      <td>70-74 years</td>\n",
       "      <td>2</td>\n",
       "    </tr>\n",
       "    <tr>\n",
       "      <th>1821739</th>\n",
       "      <td>2020WY56045993921600000002</td>\n",
       "      <td>2020</td>\n",
       "      <td>WY</td>\n",
       "      <td>56045</td>\n",
       "      <td>other</td>\n",
       "      <td>not applicable</td>\n",
       "      <td>Female</td>\n",
       "      <td>75-79 years</td>\n",
       "      <td>2</td>\n",
       "    </tr>\n",
       "    <tr>\n",
       "      <th>1821740</th>\n",
       "      <td>2020WY56045993921700000002</td>\n",
       "      <td>2020</td>\n",
       "      <td>WY</td>\n",
       "      <td>56045</td>\n",
       "      <td>other</td>\n",
       "      <td>not applicable</td>\n",
       "      <td>Female</td>\n",
       "      <td>80-84 years</td>\n",
       "      <td>2</td>\n",
       "    </tr>\n",
       "    <tr>\n",
       "      <th>1821741</th>\n",
       "      <td>2020WY56045993921800000002</td>\n",
       "      <td>2020</td>\n",
       "      <td>WY</td>\n",
       "      <td>56045</td>\n",
       "      <td>other</td>\n",
       "      <td>not applicable</td>\n",
       "      <td>Female</td>\n",
       "      <td>over 85 years</td>\n",
       "      <td>2</td>\n",
       "    </tr>\n",
       "  </tbody>\n",
       "</table>\n",
       "</div>"
      ],
      "text/plain": [
       "                               data  year state   fips   race          origin  \\\n",
       "1821737  2020WY56045993921400000021  2020    WY  56045  other  not applicable   \n",
       "1821738  2020WY56045993921500000002  2020    WY  56045  other  not applicable   \n",
       "1821739  2020WY56045993921600000002  2020    WY  56045  other  not applicable   \n",
       "1821740  2020WY56045993921700000002  2020    WY  56045  other  not applicable   \n",
       "1821741  2020WY56045993921800000002  2020    WY  56045  other  not applicable   \n",
       "\n",
       "            sex            age pop  \n",
       "1821737  Female    65-69 years  21  \n",
       "1821738  Female    70-74 years   2  \n",
       "1821739  Female    75-79 years   2  \n",
       "1821740  Female    80-84 years   2  \n",
       "1821741  Female  over 85 years   2  "
      ]
     },
     "execution_count": 46,
     "metadata": {},
     "output_type": "execute_result"
    }
   ],
   "source": [
    "sd.tail()"
   ]
  },
  {
   "cell_type": "code",
   "execution_count": 47,
   "id": "f6249e90-af13-4e9d-b4a6-c6fe4b857618",
   "metadata": {},
   "outputs": [
    {
     "data": {
      "text/html": [
       "<div>\n",
       "<style scoped>\n",
       "    .dataframe tbody tr th:only-of-type {\n",
       "        vertical-align: middle;\n",
       "    }\n",
       "\n",
       "    .dataframe tbody tr th {\n",
       "        vertical-align: top;\n",
       "    }\n",
       "\n",
       "    .dataframe thead th {\n",
       "        text-align: right;\n",
       "    }\n",
       "</style>\n",
       "<table border=\"1\" class=\"dataframe\">\n",
       "  <thead>\n",
       "    <tr style=\"text-align: right;\">\n",
       "      <th></th>\n",
       "      <th>data</th>\n",
       "      <th>year</th>\n",
       "      <th>state</th>\n",
       "      <th>fips</th>\n",
       "      <th>race</th>\n",
       "      <th>origin</th>\n",
       "      <th>sex</th>\n",
       "      <th>age</th>\n",
       "      <th>pop</th>\n",
       "    </tr>\n",
       "  </thead>\n",
       "  <tbody>\n",
       "    <tr>\n",
       "      <th>0</th>\n",
       "      <td>1969AL01001991910000000159</td>\n",
       "      <td>1969</td>\n",
       "      <td>AL</td>\n",
       "      <td>01001</td>\n",
       "      <td>white</td>\n",
       "      <td>not applicable</td>\n",
       "      <td>Male</td>\n",
       "      <td>0 years</td>\n",
       "      <td>159</td>\n",
       "    </tr>\n",
       "    <tr>\n",
       "      <th>1</th>\n",
       "      <td>1969AL01001991910100000657</td>\n",
       "      <td>1969</td>\n",
       "      <td>AL</td>\n",
       "      <td>01001</td>\n",
       "      <td>white</td>\n",
       "      <td>not applicable</td>\n",
       "      <td>Male</td>\n",
       "      <td>1-4 years</td>\n",
       "      <td>657</td>\n",
       "    </tr>\n",
       "    <tr>\n",
       "      <th>2</th>\n",
       "      <td>1969AL01001991910200001137</td>\n",
       "      <td>1969</td>\n",
       "      <td>AL</td>\n",
       "      <td>01001</td>\n",
       "      <td>white</td>\n",
       "      <td>not applicable</td>\n",
       "      <td>Male</td>\n",
       "      <td>5-9 years</td>\n",
       "      <td>1137</td>\n",
       "    </tr>\n",
       "    <tr>\n",
       "      <th>3</th>\n",
       "      <td>1969AL01001991910300000956</td>\n",
       "      <td>1969</td>\n",
       "      <td>AL</td>\n",
       "      <td>01001</td>\n",
       "      <td>white</td>\n",
       "      <td>not applicable</td>\n",
       "      <td>Male</td>\n",
       "      <td>10-14 years</td>\n",
       "      <td>956</td>\n",
       "    </tr>\n",
       "    <tr>\n",
       "      <th>4</th>\n",
       "      <td>1969AL01001991910400000721</td>\n",
       "      <td>1969</td>\n",
       "      <td>AL</td>\n",
       "      <td>01001</td>\n",
       "      <td>white</td>\n",
       "      <td>not applicable</td>\n",
       "      <td>Male</td>\n",
       "      <td>15-19 years</td>\n",
       "      <td>721</td>\n",
       "    </tr>\n",
       "  </tbody>\n",
       "</table>\n",
       "</div>"
      ],
      "text/plain": [
       "                         data  year state   fips   race          origin   sex  \\\n",
       "0  1969AL01001991910000000159  1969    AL  01001  white  not applicable  Male   \n",
       "1  1969AL01001991910100000657  1969    AL  01001  white  not applicable  Male   \n",
       "2  1969AL01001991910200001137  1969    AL  01001  white  not applicable  Male   \n",
       "3  1969AL01001991910300000956  1969    AL  01001  white  not applicable  Male   \n",
       "4  1969AL01001991910400000721  1969    AL  01001  white  not applicable  Male   \n",
       "\n",
       "           age   pop  \n",
       "0      0 years   159  \n",
       "1    1-4 years   657  \n",
       "2    5-9 years  1137  \n",
       "3  10-14 years   956  \n",
       "4  15-19 years   721  "
      ]
     },
     "execution_count": 47,
     "metadata": {},
     "output_type": "execute_result"
    }
   ],
   "source": [
    "sd['pop'] = sd['pop'].astype(int)\n",
    "sd.head()"
   ]
  },
  {
   "cell_type": "code",
   "execution_count": 48,
   "id": "49e0890f-3da8-42ee-9b15-c8017cbff4e7",
   "metadata": {},
   "outputs": [
    {
     "data": {
      "text/html": [
       "<div>\n",
       "<style scoped>\n",
       "    .dataframe tbody tr th:only-of-type {\n",
       "        vertical-align: middle;\n",
       "    }\n",
       "\n",
       "    .dataframe tbody tr th {\n",
       "        vertical-align: top;\n",
       "    }\n",
       "\n",
       "    .dataframe thead th {\n",
       "        text-align: right;\n",
       "    }\n",
       "</style>\n",
       "<table border=\"1\" class=\"dataframe\">\n",
       "  <thead>\n",
       "    <tr style=\"text-align: right;\">\n",
       "      <th></th>\n",
       "      <th>year</th>\n",
       "      <th>state</th>\n",
       "      <th>fips</th>\n",
       "      <th>race</th>\n",
       "      <th>sex</th>\n",
       "      <th>age</th>\n",
       "      <th>pop</th>\n",
       "    </tr>\n",
       "  </thead>\n",
       "  <tbody>\n",
       "    <tr>\n",
       "      <th>0</th>\n",
       "      <td>1969</td>\n",
       "      <td>AL</td>\n",
       "      <td>01001</td>\n",
       "      <td>white</td>\n",
       "      <td>Male</td>\n",
       "      <td>0 years</td>\n",
       "      <td>159</td>\n",
       "    </tr>\n",
       "    <tr>\n",
       "      <th>1</th>\n",
       "      <td>1969</td>\n",
       "      <td>AL</td>\n",
       "      <td>01001</td>\n",
       "      <td>white</td>\n",
       "      <td>Male</td>\n",
       "      <td>1-4 years</td>\n",
       "      <td>657</td>\n",
       "    </tr>\n",
       "    <tr>\n",
       "      <th>2</th>\n",
       "      <td>1969</td>\n",
       "      <td>AL</td>\n",
       "      <td>01001</td>\n",
       "      <td>white</td>\n",
       "      <td>Male</td>\n",
       "      <td>5-9 years</td>\n",
       "      <td>1137</td>\n",
       "    </tr>\n",
       "    <tr>\n",
       "      <th>3</th>\n",
       "      <td>1969</td>\n",
       "      <td>AL</td>\n",
       "      <td>01001</td>\n",
       "      <td>white</td>\n",
       "      <td>Male</td>\n",
       "      <td>10-14 years</td>\n",
       "      <td>956</td>\n",
       "    </tr>\n",
       "    <tr>\n",
       "      <th>4</th>\n",
       "      <td>1969</td>\n",
       "      <td>AL</td>\n",
       "      <td>01001</td>\n",
       "      <td>white</td>\n",
       "      <td>Male</td>\n",
       "      <td>15-19 years</td>\n",
       "      <td>721</td>\n",
       "    </tr>\n",
       "  </tbody>\n",
       "</table>\n",
       "</div>"
      ],
      "text/plain": [
       "   year state   fips   race   sex          age   pop\n",
       "0  1969    AL  01001  white  Male      0 years   159\n",
       "1  1969    AL  01001  white  Male    1-4 years   657\n",
       "2  1969    AL  01001  white  Male    5-9 years  1137\n",
       "3  1969    AL  01001  white  Male  10-14 years   956\n",
       "4  1969    AL  01001  white  Male  15-19 years   721"
      ]
     },
     "execution_count": 48,
     "metadata": {},
     "output_type": "execute_result"
    }
   ],
   "source": [
    "sd = sd[['year', 'state', 'fips', 'race', 'sex', 'age', 'pop']]\n",
    "sd.head()"
   ]
  },
  {
   "cell_type": "code",
   "execution_count": 49,
   "id": "6342f00a-64da-4037-bf91-7adf21933561",
   "metadata": {},
   "outputs": [],
   "source": [
    "sd.to_csv('population_detailed_1969-2020.csv')"
   ]
  },
  {
   "cell_type": "code",
   "execution_count": 50,
   "id": "a6cacd6a-a16b-4513-8686-55175e9c1624",
   "metadata": {},
   "outputs": [
    {
     "data": {
      "text/html": [
       "<div>\n",
       "<style scoped>\n",
       "    .dataframe tbody tr th:only-of-type {\n",
       "        vertical-align: middle;\n",
       "    }\n",
       "\n",
       "    .dataframe tbody tr th {\n",
       "        vertical-align: top;\n",
       "    }\n",
       "\n",
       "    .dataframe thead th {\n",
       "        text-align: right;\n",
       "    }\n",
       "</style>\n",
       "<table border=\"1\" class=\"dataframe\">\n",
       "  <thead>\n",
       "    <tr style=\"text-align: right;\">\n",
       "      <th></th>\n",
       "      <th>year</th>\n",
       "      <th>fips</th>\n",
       "      <th>pop</th>\n",
       "    </tr>\n",
       "  </thead>\n",
       "  <tbody>\n",
       "    <tr>\n",
       "      <th>0</th>\n",
       "      <td>1969</td>\n",
       "      <td>01001</td>\n",
       "      <td>22289</td>\n",
       "    </tr>\n",
       "    <tr>\n",
       "      <th>1</th>\n",
       "      <td>1969</td>\n",
       "      <td>01003</td>\n",
       "      <td>53425</td>\n",
       "    </tr>\n",
       "    <tr>\n",
       "      <th>2</th>\n",
       "      <td>1969</td>\n",
       "      <td>01005</td>\n",
       "      <td>20120</td>\n",
       "    </tr>\n",
       "    <tr>\n",
       "      <th>3</th>\n",
       "      <td>1969</td>\n",
       "      <td>01007</td>\n",
       "      <td>13586</td>\n",
       "    </tr>\n",
       "    <tr>\n",
       "      <th>4</th>\n",
       "      <td>1969</td>\n",
       "      <td>01009</td>\n",
       "      <td>19544</td>\n",
       "    </tr>\n",
       "  </tbody>\n",
       "</table>\n",
       "</div>"
      ],
      "text/plain": [
       "   year   fips    pop\n",
       "0  1969  01001  22289\n",
       "1  1969  01003  53425\n",
       "2  1969  01005  20120\n",
       "3  1969  01007  13586\n",
       "4  1969  01009  19544"
      ]
     },
     "execution_count": 50,
     "metadata": {},
     "output_type": "execute_result"
    }
   ],
   "source": [
    "sd_county = sd.groupby(['year','fips']).sum()\n",
    "sd_county = sd_county.reset_index()\n",
    "sd_county.head()"
   ]
  },
  {
   "cell_type": "code",
   "execution_count": 51,
   "id": "ec7ae7a5-3fea-4069-82f0-2e15697dd3e1",
   "metadata": {},
   "outputs": [
    {
     "data": {
      "text/plain": [
       "(162334, 3)"
      ]
     },
     "execution_count": 51,
     "metadata": {},
     "output_type": "execute_result"
    }
   ],
   "source": [
    "sd_county.shape"
   ]
  },
  {
   "cell_type": "code",
   "execution_count": 52,
   "id": "8ceefa46-1cc0-44cd-a192-9de37cbd3990",
   "metadata": {},
   "outputs": [],
   "source": [
    "sd_county.to_csv('pop_1969-2020.csv')"
   ]
  },
  {
   "cell_type": "code",
   "execution_count": null,
   "id": "a17068b1-c6a6-4bc6-981f-d7aa36e3d8bb",
   "metadata": {},
   "outputs": [],
   "source": []
  },
  {
   "cell_type": "code",
   "execution_count": null,
   "id": "88a2f685-d0cf-4db7-91d1-1844185c36c0",
   "metadata": {},
   "outputs": [],
   "source": []
  },
  {
   "cell_type": "code",
   "execution_count": null,
   "id": "358eafcd-9b84-4458-9026-0dbcb8957df9",
   "metadata": {},
   "outputs": [],
   "source": []
  }
 ],
 "metadata": {
  "kernelspec": {
   "display_name": "MyEnv",
   "language": "python",
   "name": "myenv"
  },
  "language_info": {
   "codemirror_mode": {
    "name": "ipython",
    "version": 3
   },
   "file_extension": ".py",
   "mimetype": "text/x-python",
   "name": "python",
   "nbconvert_exporter": "python",
   "pygments_lexer": "ipython3",
   "version": "3.7.11"
  }
 },
 "nbformat": 4,
 "nbformat_minor": 5
}
